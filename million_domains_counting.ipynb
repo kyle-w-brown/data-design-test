{
  "nbformat": 4,
  "nbformat_minor": 0,
  "metadata": {
    "colab": {
      "name": "million-domains-counting.ipynb",
      "provenance": [],
      "collapsed_sections": []
    },
    "kernelspec": {
      "name": "python3",
      "display_name": "Python 3"
    },
    "language_info": {
      "name": "python"
    }
  },
  "cells": [
    {
      "cell_type": "markdown",
      "metadata": {
        "id": "bDxo-ZwdUNVX"
      },
      "source": [
        "# **Million Domains and Counting**\n",
        "---"
      ]
    },
    {
      "cell_type": "markdown",
      "metadata": {
        "id": "DL1dSfeOZ_kR"
      },
      "source": [
        "*By: Kyle W. Brown*"
      ]
    },
    {
      "cell_type": "markdown",
      "metadata": {
        "id": "r6_zTSO2jVU2"
      },
      "source": [
        "This analysis reviews the top domains that are global ranked through Majestic Million, a database of a million domains that find the most referring subnets. Free search and download of the top million websites, from the world's largest commercially available backlink database. The [majestic_million.csv](https://downloads.majestic.com/majestic_million.csv) dataset is from [Majestic](https://majestic.com/)"
      ]
    },
    {
      "cell_type": "markdown",
      "metadata": {
        "id": "5joZPU_eZagj"
      },
      "source": [
        "## About Majestic\n",
        "\n",
        "Majestic offers leading-edge support for SEOs, Developers, Digital Entrepreneurs, Analysts, Businesses, Online marketing professionals and Affiliate Managers. The largest commercial link intelligence database in the world, Majestic crawls the web and views around a billion URLs a day. They analyze the data via their Flow Metrics algorithm and share the results so that you can illuminate your business presence on the web, and improve your Search Engine Ranking.\n"
      ]
    },
    {
      "cell_type": "markdown",
      "metadata": {
        "id": "Z7KZbbCHar6p"
      },
      "source": [
        "## Data\n",
        "\n",
        "The data can be found here:\n",
        "\n",
        "https://downloads.majestic.com/majestic_million.csv"
      ]
    },
    {
      "cell_type": "code",
      "metadata": {
        "id": "pDwfH_PbCypV"
      },
      "source": [
        "import pandas as pd\n",
        "\n",
        "# Loading data fom Raw Git csv\n",
        "domains = pd.read_csv('https://raw.githubusercontent.com/tianhuil/design-data/main/data/majestic_million.csv?token=AMCCLAEHZDKK4DUKMRI2Y6TAWGY4K')"
      ],
      "execution_count": 5,
      "outputs": []
    },
    {
      "cell_type": "code",
      "metadata": {
        "colab": {
          "base_uri": "https://localhost:8080/",
          "height": 202
        },
        "id": "Jh7PhoIEVUhu",
        "outputId": "3307ee11-ab88-4984-f859-5c57d94b48f1"
      },
      "source": [
        "domains.head()"
      ],
      "execution_count": 3,
      "outputs": [
        {
          "output_type": "execute_result",
          "data": {
            "text/html": [
              "<div>\n",
              "<style scoped>\n",
              "    .dataframe tbody tr th:only-of-type {\n",
              "        vertical-align: middle;\n",
              "    }\n",
              "\n",
              "    .dataframe tbody tr th {\n",
              "        vertical-align: top;\n",
              "    }\n",
              "\n",
              "    .dataframe thead th {\n",
              "        text-align: right;\n",
              "    }\n",
              "</style>\n",
              "<table border=\"1\" class=\"dataframe\">\n",
              "  <thead>\n",
              "    <tr style=\"text-align: right;\">\n",
              "      <th></th>\n",
              "      <th>GlobalRank</th>\n",
              "      <th>TldRank</th>\n",
              "      <th>Domain</th>\n",
              "      <th>TLD</th>\n",
              "      <th>RefSubNets</th>\n",
              "      <th>RefIPs</th>\n",
              "      <th>IDN_Domain</th>\n",
              "      <th>IDN_TLD</th>\n",
              "      <th>PrevGlobalRank</th>\n",
              "      <th>PrevTldRank</th>\n",
              "      <th>PrevRefSubNets</th>\n",
              "      <th>PrevRefIPs</th>\n",
              "    </tr>\n",
              "  </thead>\n",
              "  <tbody>\n",
              "    <tr>\n",
              "      <th>0</th>\n",
              "      <td>1</td>\n",
              "      <td>1</td>\n",
              "      <td>facebook.com</td>\n",
              "      <td>com</td>\n",
              "      <td>499868</td>\n",
              "      <td>2872434</td>\n",
              "      <td>facebook.com</td>\n",
              "      <td>com</td>\n",
              "      <td>1</td>\n",
              "      <td>1</td>\n",
              "      <td>500047</td>\n",
              "      <td>2873112</td>\n",
              "    </tr>\n",
              "    <tr>\n",
              "      <th>1</th>\n",
              "      <td>2</td>\n",
              "      <td>2</td>\n",
              "      <td>google.com</td>\n",
              "      <td>com</td>\n",
              "      <td>499340</td>\n",
              "      <td>2682315</td>\n",
              "      <td>google.com</td>\n",
              "      <td>com</td>\n",
              "      <td>2</td>\n",
              "      <td>2</td>\n",
              "      <td>499182</td>\n",
              "      <td>2680338</td>\n",
              "    </tr>\n",
              "    <tr>\n",
              "      <th>2</th>\n",
              "      <td>3</td>\n",
              "      <td>3</td>\n",
              "      <td>youtube.com</td>\n",
              "      <td>com</td>\n",
              "      <td>456055</td>\n",
              "      <td>2373913</td>\n",
              "      <td>youtube.com</td>\n",
              "      <td>com</td>\n",
              "      <td>3</td>\n",
              "      <td>3</td>\n",
              "      <td>456219</td>\n",
              "      <td>2373321</td>\n",
              "    </tr>\n",
              "    <tr>\n",
              "      <th>3</th>\n",
              "      <td>4</td>\n",
              "      <td>4</td>\n",
              "      <td>twitter.com</td>\n",
              "      <td>com</td>\n",
              "      <td>443183</td>\n",
              "      <td>2290940</td>\n",
              "      <td>twitter.com</td>\n",
              "      <td>com</td>\n",
              "      <td>4</td>\n",
              "      <td>4</td>\n",
              "      <td>443218</td>\n",
              "      <td>2291339</td>\n",
              "    </tr>\n",
              "    <tr>\n",
              "      <th>4</th>\n",
              "      <td>5</td>\n",
              "      <td>5</td>\n",
              "      <td>instagram.com</td>\n",
              "      <td>com</td>\n",
              "      <td>365641</td>\n",
              "      <td>1779588</td>\n",
              "      <td>instagram.com</td>\n",
              "      <td>com</td>\n",
              "      <td>5</td>\n",
              "      <td>5</td>\n",
              "      <td>365622</td>\n",
              "      <td>1779227</td>\n",
              "    </tr>\n",
              "  </tbody>\n",
              "</table>\n",
              "</div>"
            ],
            "text/plain": [
              "   GlobalRank  TldRank         Domain  ... PrevTldRank  PrevRefSubNets  PrevRefIPs\n",
              "0           1        1   facebook.com  ...           1          500047     2873112\n",
              "1           2        2     google.com  ...           2          499182     2680338\n",
              "2           3        3    youtube.com  ...           3          456219     2373321\n",
              "3           4        4    twitter.com  ...           4          443218     2291339\n",
              "4           5        5  instagram.com  ...           5          365622     1779227\n",
              "\n",
              "[5 rows x 12 columns]"
            ]
          },
          "metadata": {
            "tags": []
          },
          "execution_count": 3
        }
      ]
    },
    {
      "cell_type": "markdown",
      "metadata": {
        "id": "ildCLPJ99ciT"
      },
      "source": [
        "## Top 10 Global Ranked SEO Domains"
      ]
    },
    {
      "cell_type": "markdown",
      "metadata": {
        "id": "YVMyhJ14Yy7n"
      },
      "source": [
        "A top-level domain is one of the domains at the highest level in the hierarchical Domain Name System of the Internet. The top-level domain names are installed in the root zone of the name space. For all domains in lower levels, it is the last part of the domain name, that is, the last label of a fully qualified domain name. (Wikipedia)"
      ]
    },
    {
      "cell_type": "code",
      "metadata": {
        "colab": {
          "base_uri": "https://localhost:8080/",
          "height": 355
        },
        "id": "vo3QMrGftE9T",
        "outputId": "8aba1030-ffea-4023-9f55-4d53bf9b9214"
      },
      "source": [
        "# Create the top_10_domains pandas series\n",
        "top_10_domains = domains.loc[:, [\"GlobalRank\", \"Domain\"]].head(10)\n",
        "top_10_domains"
      ],
      "execution_count": null,
      "outputs": [
        {
          "output_type": "execute_result",
          "data": {
            "text/html": [
              "<div>\n",
              "<style scoped>\n",
              "    .dataframe tbody tr th:only-of-type {\n",
              "        vertical-align: middle;\n",
              "    }\n",
              "\n",
              "    .dataframe tbody tr th {\n",
              "        vertical-align: top;\n",
              "    }\n",
              "\n",
              "    .dataframe thead th {\n",
              "        text-align: right;\n",
              "    }\n",
              "</style>\n",
              "<table border=\"1\" class=\"dataframe\">\n",
              "  <thead>\n",
              "    <tr style=\"text-align: right;\">\n",
              "      <th></th>\n",
              "      <th>GlobalRank</th>\n",
              "      <th>Domain</th>\n",
              "    </tr>\n",
              "  </thead>\n",
              "  <tbody>\n",
              "    <tr>\n",
              "      <th>0</th>\n",
              "      <td>1</td>\n",
              "      <td>facebook.com</td>\n",
              "    </tr>\n",
              "    <tr>\n",
              "      <th>1</th>\n",
              "      <td>2</td>\n",
              "      <td>google.com</td>\n",
              "    </tr>\n",
              "    <tr>\n",
              "      <th>2</th>\n",
              "      <td>3</td>\n",
              "      <td>youtube.com</td>\n",
              "    </tr>\n",
              "    <tr>\n",
              "      <th>3</th>\n",
              "      <td>4</td>\n",
              "      <td>twitter.com</td>\n",
              "    </tr>\n",
              "    <tr>\n",
              "      <th>4</th>\n",
              "      <td>5</td>\n",
              "      <td>instagram.com</td>\n",
              "    </tr>\n",
              "    <tr>\n",
              "      <th>5</th>\n",
              "      <td>6</td>\n",
              "      <td>linkedin.com</td>\n",
              "    </tr>\n",
              "    <tr>\n",
              "      <th>6</th>\n",
              "      <td>7</td>\n",
              "      <td>microsoft.com</td>\n",
              "    </tr>\n",
              "    <tr>\n",
              "      <th>7</th>\n",
              "      <td>8</td>\n",
              "      <td>apple.com</td>\n",
              "    </tr>\n",
              "    <tr>\n",
              "      <th>8</th>\n",
              "      <td>9</td>\n",
              "      <td>wikipedia.org</td>\n",
              "    </tr>\n",
              "    <tr>\n",
              "      <th>9</th>\n",
              "      <td>10</td>\n",
              "      <td>googletagmanager.com</td>\n",
              "    </tr>\n",
              "  </tbody>\n",
              "</table>\n",
              "</div>"
            ],
            "text/plain": [
              "   GlobalRank                Domain\n",
              "0           1          facebook.com\n",
              "1           2            google.com\n",
              "2           3           youtube.com\n",
              "3           4           twitter.com\n",
              "4           5         instagram.com\n",
              "5           6          linkedin.com\n",
              "6           7         microsoft.com\n",
              "7           8             apple.com\n",
              "8           9         wikipedia.org\n",
              "9          10  googletagmanager.com"
            ]
          },
          "metadata": {
            "tags": []
          },
          "execution_count": 42
        }
      ]
    },
    {
      "cell_type": "markdown",
      "metadata": {
        "id": "bkackB2g_rQy"
      },
      "source": [
        "## Top-Level Domains (TLD) Breakdown for Majestic "
      ]
    },
    {
      "cell_type": "code",
      "metadata": {
        "colab": {
          "base_uri": "https://localhost:8080/",
          "height": 355
        },
        "id": "4gP7XMxu_VzQ",
        "outputId": "5e609893-de95-4fc4-877c-3a4a00c51e38"
      },
      "source": [
        "s = domains.TLD\n",
        "counts = s.value_counts()\n",
        "percent = s.value_counts(normalize=True)\n",
        "percent100 = s.value_counts(normalize=True).mul(100).round(1).astype(str) + '%'\n",
        "\n",
        "\n",
        "pd.DataFrame({'Counts': counts, 'Percent': percent, 'Percent(%)': percent100}).head(10)"
      ],
      "execution_count": 8,
      "outputs": [
        {
          "output_type": "execute_result",
          "data": {
            "text/html": [
              "<div>\n",
              "<style scoped>\n",
              "    .dataframe tbody tr th:only-of-type {\n",
              "        vertical-align: middle;\n",
              "    }\n",
              "\n",
              "    .dataframe tbody tr th {\n",
              "        vertical-align: top;\n",
              "    }\n",
              "\n",
              "    .dataframe thead th {\n",
              "        text-align: right;\n",
              "    }\n",
              "</style>\n",
              "<table border=\"1\" class=\"dataframe\">\n",
              "  <thead>\n",
              "    <tr style=\"text-align: right;\">\n",
              "      <th></th>\n",
              "      <th>Counts</th>\n",
              "      <th>Percent</th>\n",
              "      <th>Percent(%)</th>\n",
              "    </tr>\n",
              "  </thead>\n",
              "  <tbody>\n",
              "    <tr>\n",
              "      <th>com</th>\n",
              "      <td>501962</td>\n",
              "      <td>0.501962</td>\n",
              "      <td>50.2%</td>\n",
              "    </tr>\n",
              "    <tr>\n",
              "      <th>org</th>\n",
              "      <td>84189</td>\n",
              "      <td>0.084189</td>\n",
              "      <td>8.4%</td>\n",
              "    </tr>\n",
              "    <tr>\n",
              "      <th>net</th>\n",
              "      <td>45659</td>\n",
              "      <td>0.045659</td>\n",
              "      <td>4.6%</td>\n",
              "    </tr>\n",
              "    <tr>\n",
              "      <th>ru</th>\n",
              "      <td>33723</td>\n",
              "      <td>0.033723</td>\n",
              "      <td>3.4%</td>\n",
              "    </tr>\n",
              "    <tr>\n",
              "      <th>de</th>\n",
              "      <td>31954</td>\n",
              "      <td>0.031954</td>\n",
              "      <td>3.2%</td>\n",
              "    </tr>\n",
              "    <tr>\n",
              "      <th>cn</th>\n",
              "      <td>26529</td>\n",
              "      <td>0.026529</td>\n",
              "      <td>2.7%</td>\n",
              "    </tr>\n",
              "    <tr>\n",
              "      <th>uk</th>\n",
              "      <td>25042</td>\n",
              "      <td>0.025042</td>\n",
              "      <td>2.5%</td>\n",
              "    </tr>\n",
              "    <tr>\n",
              "      <th>jp</th>\n",
              "      <td>16192</td>\n",
              "      <td>0.016192</td>\n",
              "      <td>1.6%</td>\n",
              "    </tr>\n",
              "    <tr>\n",
              "      <th>nl</th>\n",
              "      <td>13995</td>\n",
              "      <td>0.013995</td>\n",
              "      <td>1.4%</td>\n",
              "    </tr>\n",
              "    <tr>\n",
              "      <th>fr</th>\n",
              "      <td>9777</td>\n",
              "      <td>0.009777</td>\n",
              "      <td>1.0%</td>\n",
              "    </tr>\n",
              "  </tbody>\n",
              "</table>\n",
              "</div>"
            ],
            "text/plain": [
              "     Counts   Percent Percent(%)\n",
              "com  501962  0.501962      50.2%\n",
              "org   84189  0.084189       8.4%\n",
              "net   45659  0.045659       4.6%\n",
              "ru    33723  0.033723       3.4%\n",
              "de    31954  0.031954       3.2%\n",
              "cn    26529  0.026529       2.7%\n",
              "uk    25042  0.025042       2.5%\n",
              "jp    16192  0.016192       1.6%\n",
              "nl    13995  0.013995       1.4%\n",
              "fr     9777  0.009777       1.0%"
            ]
          },
          "metadata": {
            "tags": []
          },
          "execution_count": 8
        }
      ]
    },
    {
      "cell_type": "markdown",
      "metadata": {
        "id": "lTjv7EryDY2T"
      },
      "source": [
        "## Top 10 TLD's Visualization"
      ]
    },
    {
      "cell_type": "code",
      "metadata": {
        "colab": {
          "base_uri": "https://localhost:8080/",
          "height": 268
        },
        "id": "SU8z_y3W0AFV",
        "outputId": "3667e436-78b2-4122-f448-c7eab373a594"
      },
      "source": [
        "from matplotlib import cm\n",
        "import matplotlib.pyplot as plt\n",
        "from matplotlib.ticker import PercentFormatter\n",
        "\n",
        "viridis = cm.get_cmap('viridis', 10)\n",
        "\n",
        "percent = percent.head(10)\n",
        "percent.plot(kind='bar', color=viridis.colors, rot=0);"
      ],
      "execution_count": 12,
      "outputs": [
        {
          "output_type": "display_data",
          "data": {
            "image/png": "[encoded data removed]",
            "text/plain": [
              "<Figure size 432x288 with 1 Axes>"
            ]
          },
          "metadata": {
            "tags": []
          }
        }
      ]
    },
    {
      "cell_type": "markdown",
      "metadata": {
        "id": "z6QN7TxRYj-9"
      },
      "source": [
        "# Correlation Analysis"
      ]
    },
    {
      "cell_type": "code",
      "metadata": {
        "colab": {
          "base_uri": "https://localhost:8080/",
          "height": 294
        },
        "id": "k5gppdglTgke",
        "outputId": "b1ef3a71-3bdd-4e31-8536-61827c78e49d"
      },
      "source": [
        "domains.corr()"
      ],
      "execution_count": 10,
      "outputs": [
        {
          "output_type": "execute_result",
          "data": {
            "text/html": [
              "<div>\n",
              "<style scoped>\n",
              "    .dataframe tbody tr th:only-of-type {\n",
              "        vertical-align: middle;\n",
              "    }\n",
              "\n",
              "    .dataframe tbody tr th {\n",
              "        vertical-align: top;\n",
              "    }\n",
              "\n",
              "    .dataframe thead th {\n",
              "        text-align: right;\n",
              "    }\n",
              "</style>\n",
              "<table border=\"1\" class=\"dataframe\">\n",
              "  <thead>\n",
              "    <tr style=\"text-align: right;\">\n",
              "      <th></th>\n",
              "      <th>GlobalRank</th>\n",
              "      <th>TldRank</th>\n",
              "      <th>RefSubNets</th>\n",
              "      <th>RefIPs</th>\n",
              "      <th>PrevGlobalRank</th>\n",
              "      <th>PrevTldRank</th>\n",
              "      <th>PrevRefSubNets</th>\n",
              "      <th>PrevRefIPs</th>\n",
              "    </tr>\n",
              "  </thead>\n",
              "  <tbody>\n",
              "    <tr>\n",
              "      <th>GlobalRank</th>\n",
              "      <td>1.000000</td>\n",
              "      <td>0.485593</td>\n",
              "      <td>-0.277883</td>\n",
              "      <td>-0.132431</td>\n",
              "      <td>0.952988</td>\n",
              "      <td>0.467172</td>\n",
              "      <td>-0.278885</td>\n",
              "      <td>-0.133296</td>\n",
              "    </tr>\n",
              "    <tr>\n",
              "      <th>TldRank</th>\n",
              "      <td>0.485593</td>\n",
              "      <td>1.000000</td>\n",
              "      <td>-0.134880</td>\n",
              "      <td>-0.071046</td>\n",
              "      <td>0.463131</td>\n",
              "      <td>0.979723</td>\n",
              "      <td>-0.135372</td>\n",
              "      <td>-0.070928</td>\n",
              "    </tr>\n",
              "    <tr>\n",
              "      <th>RefSubNets</th>\n",
              "      <td>-0.277883</td>\n",
              "      <td>-0.134880</td>\n",
              "      <td>1.000000</td>\n",
              "      <td>0.912237</td>\n",
              "      <td>-0.271571</td>\n",
              "      <td>-0.133061</td>\n",
              "      <td>0.999881</td>\n",
              "      <td>0.912028</td>\n",
              "    </tr>\n",
              "    <tr>\n",
              "      <th>RefIPs</th>\n",
              "      <td>-0.132431</td>\n",
              "      <td>-0.071046</td>\n",
              "      <td>0.912237</td>\n",
              "      <td>1.000000</td>\n",
              "      <td>-0.130448</td>\n",
              "      <td>-0.070173</td>\n",
              "      <td>0.912275</td>\n",
              "      <td>0.999719</td>\n",
              "    </tr>\n",
              "    <tr>\n",
              "      <th>PrevGlobalRank</th>\n",
              "      <td>0.952988</td>\n",
              "      <td>0.463131</td>\n",
              "      <td>-0.271571</td>\n",
              "      <td>-0.130448</td>\n",
              "      <td>1.000000</td>\n",
              "      <td>0.490521</td>\n",
              "      <td>-0.269772</td>\n",
              "      <td>-0.129146</td>\n",
              "    </tr>\n",
              "    <tr>\n",
              "      <th>PrevTldRank</th>\n",
              "      <td>0.467172</td>\n",
              "      <td>0.979723</td>\n",
              "      <td>-0.133061</td>\n",
              "      <td>-0.070173</td>\n",
              "      <td>0.490521</td>\n",
              "      <td>1.000000</td>\n",
              "      <td>-0.132183</td>\n",
              "      <td>-0.069548</td>\n",
              "    </tr>\n",
              "    <tr>\n",
              "      <th>PrevRefSubNets</th>\n",
              "      <td>-0.278885</td>\n",
              "      <td>-0.135372</td>\n",
              "      <td>0.999881</td>\n",
              "      <td>0.912275</td>\n",
              "      <td>-0.269772</td>\n",
              "      <td>-0.132183</td>\n",
              "      <td>1.000000</td>\n",
              "      <td>0.912220</td>\n",
              "    </tr>\n",
              "    <tr>\n",
              "      <th>PrevRefIPs</th>\n",
              "      <td>-0.133296</td>\n",
              "      <td>-0.070928</td>\n",
              "      <td>0.912028</td>\n",
              "      <td>0.999719</td>\n",
              "      <td>-0.129146</td>\n",
              "      <td>-0.069548</td>\n",
              "      <td>0.912220</td>\n",
              "      <td>1.000000</td>\n",
              "    </tr>\n",
              "  </tbody>\n",
              "</table>\n",
              "</div>"
            ],
            "text/plain": [
              "                GlobalRank   TldRank  ...  PrevRefSubNets  PrevRefIPs\n",
              "GlobalRank        1.000000  0.485593  ...       -0.278885   -0.133296\n",
              "TldRank           0.485593  1.000000  ...       -0.135372   -0.070928\n",
              "RefSubNets       -0.277883 -0.134880  ...        0.999881    0.912028\n",
              "RefIPs           -0.132431 -0.071046  ...        0.912275    0.999719\n",
              "PrevGlobalRank    0.952988  0.463131  ...       -0.269772   -0.129146\n",
              "PrevTldRank       0.467172  0.979723  ...       -0.132183   -0.069548\n",
              "PrevRefSubNets   -0.278885 -0.135372  ...        1.000000    0.912220\n",
              "PrevRefIPs       -0.133296 -0.070928  ...        0.912220    1.000000\n",
              "\n",
              "[8 rows x 8 columns]"
            ]
          },
          "metadata": {
            "tags": []
          },
          "execution_count": 10
        }
      ]
    },
    {
      "cell_type": "markdown",
      "metadata": {
        "id": "von8Dc2aYADw"
      },
      "source": [
        "As expected GlobalRank and TldRank are closely correlated (49%), surprising RefSubNets and RefIPs account for a 91% correlation. Besides the stated correlations the dataset provides interesting correlations among all fields."
      ]
    },
    {
      "cell_type": "markdown",
      "metadata": {
        "id": "cExiex71epbv"
      },
      "source": [
        "## Correlation Heatmap"
      ]
    },
    {
      "cell_type": "code",
      "metadata": {
        "colab": {
          "base_uri": "https://localhost:8080/",
          "height": 380
        },
        "id": "b26kgQ9pTgvw",
        "outputId": "aeef369b-94e0-4abf-f571-1529f4b305a5"
      },
      "source": [
        "import pandas as pd\n",
        "import numpy as np\n",
        "import seaborn as sns\n",
        "import matplotlib.pyplot as plt\n",
        "\n",
        "\n",
        "corr = domains.corr()\n",
        "\n",
        "ax1 = sns.heatmap(corr, cbar=6, linewidths=2,vmax=1, vmin=0, square=True, cmap='Greens')\n",
        "plt.rcParams['figure.figsize'] = [7, 5]\n",
        "plt.show()"
      ],
      "execution_count": 20,
      "outputs": [
        {
          "output_type": "display_data",
          "data": {
            "image/png": "[encoded data removed]",
            "text/plain": [
              "<Figure size 360x360 with 2 Axes>"
            ]
          },
          "metadata": {
            "tags": []
          }
        }
      ]
    }
  ]
}